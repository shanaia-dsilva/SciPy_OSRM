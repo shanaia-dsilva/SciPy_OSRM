{
 "cells": [
  {
   "cell_type": "code",
   "execution_count": 3,
   "id": "7252ed39-6032-4956-ba20-5994be1fb0d8",
   "metadata": {},
   "outputs": [],
   "source": [
    "import numpy as np\n",
    "import pandas as pd\n",
    "import openrouteservice"
   ]
  },
  {
   "cell_type": "code",
   "execution_count": 4,
   "id": "47b19953-86aa-4f3b-ad23-4044366af14d",
   "metadata": {},
   "outputs": [
    {
     "data": {
      "text/plain": [
       "11"
      ]
     },
     "execution_count": 4,
     "metadata": {},
     "output_type": "execute_result"
    }
   ],
   "source": [
    "\n",
    "dist = np.array([[5, 9, 1, 3], \n",
    "                 [10, 4, 2, 2], \n",
    "                 [7, 8, 4, 5],\n",
    "                [1, 3, 6, 9]])\n",
    "from scipy.optimize import linear_sum_assignment\n",
    "driver, pickup = linear_sum_assignment(dist)\n",
    "pickup\n",
    "dist[driver,pickup].sum()"
   ]
  },
  {
   "cell_type": "code",
   "execution_count": null,
   "id": "a1c0517f-7ce8-48cc-86d6-2878933e9000",
   "metadata": {},
   "outputs": [
    {
     "name": "stdout",
     "output_type": "stream",
     "text": [
      "[0 1 2 3]\n"
     ]
    }
   ],
   "source": [
    "print(driver)"
   ]
  },
  {
   "cell_type": "code",
   "execution_count": null,
   "id": "a11758cc-793d-4970-a5e6-ddde8dacbf60",
   "metadata": {},
   "outputs": [
    {
     "name": "stdout",
     "output_type": "stream",
     "text": [
      "[2 1 3 0]\n"
     ]
    }
   ],
   "source": [
    "print(pickup)"
   ]
  },
  {
   "cell_type": "code",
   "execution_count": null,
   "id": "cd407fd7-41b7-480b-be02-822471eea6be",
   "metadata": {},
   "outputs": [],
   "source": [
    "df=pd.DataFrame(dist)"
   ]
  },
  {
   "cell_type": "code",
   "execution_count": null,
   "id": "a69f4a22-3f93-4145-86a4-c2490a5d7e74",
   "metadata": {},
   "outputs": [
    {
     "name": "stdout",
     "output_type": "stream",
     "text": [
      "[1 4 5 1]\n"
     ]
    }
   ],
   "source": [
    "\n",
    "# assignments = pd.DataFrame({\n",
    "#     'worker': df.loc[row_ind].values,\n",
    "#     'job': df.loc[col_ind].values,\n",
    "#     'Original_to_Assigned_Distance_km': cost[row_ind, col_ind]\n",
    "# })\n",
    "\n",
    "assigned_values = dist[driver, pickup]\n",
    "print(assigned_values)"
   ]
  },
  {
   "cell_type": "code",
   "execution_count": null,
   "id": "01f57303-e4e6-4eda-8360-21fa5f5448c8",
   "metadata": {},
   "outputs": [
    {
     "name": "stdout",
     "output_type": "stream",
     "text": [
      "(array([0, 1, 2, 3], dtype=int64), array([2, 1, 3, 0], dtype=int64))\n"
     ]
    }
   ],
   "source": [
    "r=linear_sum_assignment(dist)\n",
    "print(r)"
   ]
  },
  {
   "cell_type": "code",
   "execution_count": null,
   "id": "b6aa2493-b568-4afc-af8f-26590526e55d",
   "metadata": {},
   "outputs": [
    {
     "name": "stdout",
     "output_type": "stream",
     "text": [
      "[2 1 3 0]\n"
     ]
    }
   ],
   "source": [
    "c=linear_sum_assignment(dist)[1]\n",
    "print(c)"
   ]
  },
  {
   "cell_type": "code",
   "execution_count": null,
   "id": "b859fb6b-6e5b-4902-835c-3b80a242864a",
   "metadata": {},
   "outputs": [
    {
     "data": {
      "text/html": [
       "<div>\n",
       "<style scoped>\n",
       "    .dataframe tbody tr th:only-of-type {\n",
       "        vertical-align: middle;\n",
       "    }\n",
       "\n",
       "    .dataframe tbody tr th {\n",
       "        vertical-align: top;\n",
       "    }\n",
       "\n",
       "    .dataframe thead th {\n",
       "        text-align: right;\n",
       "    }\n",
       "</style>\n",
       "<table border=\"1\" class=\"dataframe\">\n",
       "  <thead>\n",
       "    <tr style=\"text-align: right;\">\n",
       "      <th></th>\n",
       "      <th>Bus</th>\n",
       "      <th>Route number</th>\n",
       "      <th>Institute</th>\n",
       "      <th>Driver_Lat</th>\n",
       "      <th>Driver_Lon</th>\n",
       "      <th>PP_Lat</th>\n",
       "      <th>PP_Lon</th>\n",
       "      <th>Dead km</th>\n",
       "      <th>Dead_KM_Haversine</th>\n",
       "    </tr>\n",
       "  </thead>\n",
       "  <tbody>\n",
       "    <tr>\n",
       "      <th>0</th>\n",
       "      <td>KA53AC0634</td>\n",
       "      <td>1</td>\n",
       "      <td>Chanakya</td>\n",
       "      <td>12.958330</td>\n",
       "      <td>77.525384</td>\n",
       "      <td>12.958330</td>\n",
       "      <td>77.525384</td>\n",
       "      <td>0.0</td>\n",
       "      <td>0.000000</td>\n",
       "    </tr>\n",
       "    <tr>\n",
       "      <th>1</th>\n",
       "      <td>KA53AC0540</td>\n",
       "      <td>2</td>\n",
       "      <td>Chanakya</td>\n",
       "      <td>13.249466</td>\n",
       "      <td>77.708713</td>\n",
       "      <td>13.249466</td>\n",
       "      <td>77.708713</td>\n",
       "      <td>0.0</td>\n",
       "      <td>0.000000</td>\n",
       "    </tr>\n",
       "    <tr>\n",
       "      <th>2</th>\n",
       "      <td>KA439840</td>\n",
       "      <td>1</td>\n",
       "      <td>Gitam</td>\n",
       "      <td>13.017359</td>\n",
       "      <td>77.657409</td>\n",
       "      <td>13.010978</td>\n",
       "      <td>77.695193</td>\n",
       "      <td>6.0</td>\n",
       "      <td>4.154431</td>\n",
       "    </tr>\n",
       "    <tr>\n",
       "      <th>3</th>\n",
       "      <td>KA43A0245</td>\n",
       "      <td>2</td>\n",
       "      <td>Gitam</td>\n",
       "      <td>13.033098</td>\n",
       "      <td>77.553878</td>\n",
       "      <td>12.967800</td>\n",
       "      <td>77.536097</td>\n",
       "      <td>6.0</td>\n",
       "      <td>7.512091</td>\n",
       "    </tr>\n",
       "    <tr>\n",
       "      <th>4</th>\n",
       "      <td>KA439841</td>\n",
       "      <td>3</td>\n",
       "      <td>Gitam</td>\n",
       "      <td>13.099021</td>\n",
       "      <td>77.574234</td>\n",
       "      <td>13.034584</td>\n",
       "      <td>77.557486</td>\n",
       "      <td>8.0</td>\n",
       "      <td>7.391135</td>\n",
       "    </tr>\n",
       "  </tbody>\n",
       "</table>\n",
       "</div>"
      ],
      "text/plain": [
       "          Bus Route number Institute  Driver_Lat  Driver_Lon     PP_Lat  \\\n",
       "0  KA53AC0634            1  Chanakya   12.958330   77.525384  12.958330   \n",
       "1  KA53AC0540            2  Chanakya   13.249466   77.708713  13.249466   \n",
       "2    KA439840            1     Gitam   13.017359   77.657409  13.010978   \n",
       "3   KA43A0245            2     Gitam   13.033098   77.553878  12.967800   \n",
       "4    KA439841            3     Gitam   13.099021   77.574234  13.034584   \n",
       "\n",
       "      PP_Lon  Dead km  Dead_KM_Haversine  \n",
       "0  77.525384      0.0           0.000000  \n",
       "1  77.708713      0.0           0.000000  \n",
       "2  77.695193      6.0           4.154431  \n",
       "3  77.536097      6.0           7.512091  \n",
       "4  77.557486      8.0           7.391135  "
      ]
     },
     "execution_count": 14,
     "metadata": {},
     "output_type": "execute_result"
    }
   ],
   "source": [
    "cm=pd.read_csv('processed data.csv')\n",
    "cm.head()"
   ]
  },
  {
   "cell_type": "code",
   "execution_count": null,
   "id": "fbce08a0-2942-4101-9066-250e30a6b03a",
   "metadata": {},
   "outputs": [],
   "source": [
    "coordinates=pd.DataFrame()\n",
    "coordinates['lon1']=cm['Driver_Lon']\n",
    "coordinates['lat1']=cm['Driver_Lat']\n",
    "coordinates['lon2']=cm['PP_Lon']\n",
    "coordinates['lat2']=cm['PP_Lat']"
   ]
  },
  {
   "cell_type": "code",
   "execution_count": null,
   "id": "07da335b-cb48-4400-80a0-d4407b29d834",
   "metadata": {},
   "outputs": [
    {
     "data": {
      "text/html": [
       "<div>\n",
       "<style scoped>\n",
       "    .dataframe tbody tr th:only-of-type {\n",
       "        vertical-align: middle;\n",
       "    }\n",
       "\n",
       "    .dataframe tbody tr th {\n",
       "        vertical-align: top;\n",
       "    }\n",
       "\n",
       "    .dataframe thead th {\n",
       "        text-align: right;\n",
       "    }\n",
       "</style>\n",
       "<table border=\"1\" class=\"dataframe\">\n",
       "  <thead>\n",
       "    <tr style=\"text-align: right;\">\n",
       "      <th></th>\n",
       "      <th>lon1</th>\n",
       "      <th>lat1</th>\n",
       "      <th>lon2</th>\n",
       "      <th>lat2</th>\n",
       "    </tr>\n",
       "  </thead>\n",
       "  <tbody>\n",
       "    <tr>\n",
       "      <th>0</th>\n",
       "      <td>77.525384</td>\n",
       "      <td>12.958330</td>\n",
       "      <td>77.525384</td>\n",
       "      <td>12.958330</td>\n",
       "    </tr>\n",
       "    <tr>\n",
       "      <th>1</th>\n",
       "      <td>77.708713</td>\n",
       "      <td>13.249466</td>\n",
       "      <td>77.708713</td>\n",
       "      <td>13.249466</td>\n",
       "    </tr>\n",
       "    <tr>\n",
       "      <th>2</th>\n",
       "      <td>77.657409</td>\n",
       "      <td>13.017359</td>\n",
       "      <td>77.695193</td>\n",
       "      <td>13.010978</td>\n",
       "    </tr>\n",
       "    <tr>\n",
       "      <th>3</th>\n",
       "      <td>77.553878</td>\n",
       "      <td>13.033098</td>\n",
       "      <td>77.536097</td>\n",
       "      <td>12.967800</td>\n",
       "    </tr>\n",
       "    <tr>\n",
       "      <th>4</th>\n",
       "      <td>77.574234</td>\n",
       "      <td>13.099021</td>\n",
       "      <td>77.557486</td>\n",
       "      <td>13.034584</td>\n",
       "    </tr>\n",
       "  </tbody>\n",
       "</table>\n",
       "</div>"
      ],
      "text/plain": [
       "        lon1       lat1       lon2       lat2\n",
       "0  77.525384  12.958330  77.525384  12.958330\n",
       "1  77.708713  13.249466  77.708713  13.249466\n",
       "2  77.657409  13.017359  77.695193  13.010978\n",
       "3  77.553878  13.033098  77.536097  12.967800\n",
       "4  77.574234  13.099021  77.557486  13.034584"
      ]
     },
     "execution_count": 33,
     "metadata": {},
     "output_type": "execute_result"
    }
   ],
   "source": [
    "coordinates.head()"
   ]
  },
  {
   "cell_type": "code",
   "execution_count": null,
   "id": "018f1d1c-ff0f-467f-9ef3-165b0808be6e",
   "metadata": {},
   "outputs": [],
   "source": [
    "cost_mat=pd.DataFrame(cm['Bus'])"
   ]
  },
  {
   "cell_type": "code",
   "execution_count": null,
   "id": "bfeb5179-2530-4dca-b735-01e05a70b675",
   "metadata": {},
   "outputs": [
    {
     "data": {
      "text/html": [
       "<div>\n",
       "<style scoped>\n",
       "    .dataframe tbody tr th:only-of-type {\n",
       "        vertical-align: middle;\n",
       "    }\n",
       "\n",
       "    .dataframe tbody tr th {\n",
       "        vertical-align: top;\n",
       "    }\n",
       "\n",
       "    .dataframe thead th {\n",
       "        text-align: right;\n",
       "    }\n",
       "</style>\n",
       "<table border=\"1\" class=\"dataframe\">\n",
       "  <thead>\n",
       "    <tr style=\"text-align: right;\">\n",
       "      <th></th>\n",
       "      <th>Bus</th>\n",
       "    </tr>\n",
       "  </thead>\n",
       "  <tbody>\n",
       "    <tr>\n",
       "      <th>0</th>\n",
       "      <td>KA53AC0634</td>\n",
       "    </tr>\n",
       "    <tr>\n",
       "      <th>1</th>\n",
       "      <td>KA53AC0540</td>\n",
       "    </tr>\n",
       "    <tr>\n",
       "      <th>2</th>\n",
       "      <td>KA439840</td>\n",
       "    </tr>\n",
       "    <tr>\n",
       "      <th>3</th>\n",
       "      <td>KA43A0245</td>\n",
       "    </tr>\n",
       "    <tr>\n",
       "      <th>4</th>\n",
       "      <td>KA439841</td>\n",
       "    </tr>\n",
       "  </tbody>\n",
       "</table>\n",
       "</div>"
      ],
      "text/plain": [
       "          Bus\n",
       "0  KA53AC0634\n",
       "1  KA53AC0540\n",
       "2    KA439840\n",
       "3   KA43A0245\n",
       "4    KA439841"
      ]
     },
     "execution_count": 35,
     "metadata": {},
     "output_type": "execute_result"
    }
   ],
   "source": [
    "cost_mat.head()"
   ]
  },
  {
   "cell_type": "code",
   "execution_count": null,
   "id": "3a3fee99-56ca-493b-8d4a-f5056b458c25",
   "metadata": {},
   "outputs": [
    {
     "data": {
      "text/html": [
       "<div>\n",
       "<style scoped>\n",
       "    .dataframe tbody tr th:only-of-type {\n",
       "        vertical-align: middle;\n",
       "    }\n",
       "\n",
       "    .dataframe tbody tr th {\n",
       "        vertical-align: top;\n",
       "    }\n",
       "\n",
       "    .dataframe thead th {\n",
       "        text-align: right;\n",
       "    }\n",
       "</style>\n",
       "<table border=\"1\" class=\"dataframe\">\n",
       "  <thead>\n",
       "    <tr style=\"text-align: right;\">\n",
       "      <th></th>\n",
       "      <th>Bus</th>\n",
       "      <th>KA53AC0634</th>\n",
       "      <th>KA53AC0540</th>\n",
       "      <th>KA439840</th>\n",
       "      <th>KA43A0245</th>\n",
       "      <th>KA439841</th>\n",
       "      <th>KA439842</th>\n",
       "      <th>KA53B6963</th>\n",
       "      <th>KA53AC0345</th>\n",
       "      <th>KA51B9664</th>\n",
       "      <th>...</th>\n",
       "      <th>KA07A2722</th>\n",
       "      <th>KA51B9235</th>\n",
       "      <th>KA53B1064</th>\n",
       "      <th>KA53D0153</th>\n",
       "      <th>KA53B1072</th>\n",
       "      <th>KA53B0960</th>\n",
       "      <th>KA53B0958</th>\n",
       "      <th>KA53B0952</th>\n",
       "      <th>KA53B1075</th>\n",
       "      <th>KA53B1061</th>\n",
       "    </tr>\n",
       "  </thead>\n",
       "  <tbody>\n",
       "    <tr>\n",
       "      <th>0</th>\n",
       "      <td>KA53AC0634</td>\n",
       "      <td></td>\n",
       "      <td></td>\n",
       "      <td></td>\n",
       "      <td></td>\n",
       "      <td></td>\n",
       "      <td></td>\n",
       "      <td></td>\n",
       "      <td></td>\n",
       "      <td></td>\n",
       "      <td>...</td>\n",
       "      <td></td>\n",
       "      <td></td>\n",
       "      <td></td>\n",
       "      <td></td>\n",
       "      <td></td>\n",
       "      <td></td>\n",
       "      <td></td>\n",
       "      <td></td>\n",
       "      <td></td>\n",
       "      <td></td>\n",
       "    </tr>\n",
       "    <tr>\n",
       "      <th>1</th>\n",
       "      <td>KA53AC0540</td>\n",
       "      <td></td>\n",
       "      <td></td>\n",
       "      <td></td>\n",
       "      <td></td>\n",
       "      <td></td>\n",
       "      <td></td>\n",
       "      <td></td>\n",
       "      <td></td>\n",
       "      <td></td>\n",
       "      <td>...</td>\n",
       "      <td></td>\n",
       "      <td></td>\n",
       "      <td></td>\n",
       "      <td></td>\n",
       "      <td></td>\n",
       "      <td></td>\n",
       "      <td></td>\n",
       "      <td></td>\n",
       "      <td></td>\n",
       "      <td></td>\n",
       "    </tr>\n",
       "    <tr>\n",
       "      <th>2</th>\n",
       "      <td>KA439840</td>\n",
       "      <td></td>\n",
       "      <td></td>\n",
       "      <td></td>\n",
       "      <td></td>\n",
       "      <td></td>\n",
       "      <td></td>\n",
       "      <td></td>\n",
       "      <td></td>\n",
       "      <td></td>\n",
       "      <td>...</td>\n",
       "      <td></td>\n",
       "      <td></td>\n",
       "      <td></td>\n",
       "      <td></td>\n",
       "      <td></td>\n",
       "      <td></td>\n",
       "      <td></td>\n",
       "      <td></td>\n",
       "      <td></td>\n",
       "      <td></td>\n",
       "    </tr>\n",
       "    <tr>\n",
       "      <th>3</th>\n",
       "      <td>KA43A0245</td>\n",
       "      <td></td>\n",
       "      <td></td>\n",
       "      <td></td>\n",
       "      <td></td>\n",
       "      <td></td>\n",
       "      <td></td>\n",
       "      <td></td>\n",
       "      <td></td>\n",
       "      <td></td>\n",
       "      <td>...</td>\n",
       "      <td></td>\n",
       "      <td></td>\n",
       "      <td></td>\n",
       "      <td></td>\n",
       "      <td></td>\n",
       "      <td></td>\n",
       "      <td></td>\n",
       "      <td></td>\n",
       "      <td></td>\n",
       "      <td></td>\n",
       "    </tr>\n",
       "    <tr>\n",
       "      <th>4</th>\n",
       "      <td>KA439841</td>\n",
       "      <td></td>\n",
       "      <td></td>\n",
       "      <td></td>\n",
       "      <td></td>\n",
       "      <td></td>\n",
       "      <td></td>\n",
       "      <td></td>\n",
       "      <td></td>\n",
       "      <td></td>\n",
       "      <td>...</td>\n",
       "      <td></td>\n",
       "      <td></td>\n",
       "      <td></td>\n",
       "      <td></td>\n",
       "      <td></td>\n",
       "      <td></td>\n",
       "      <td></td>\n",
       "      <td></td>\n",
       "      <td></td>\n",
       "      <td></td>\n",
       "    </tr>\n",
       "  </tbody>\n",
       "</table>\n",
       "<p>5 rows × 54 columns</p>\n",
       "</div>"
      ],
      "text/plain": [
       "          Bus KA53AC0634 KA53AC0540 KA439840 KA43A0245 KA439841 KA439842  \\\n",
       "0  KA53AC0634                                                              \n",
       "1  KA53AC0540                                                              \n",
       "2    KA439840                                                              \n",
       "3   KA43A0245                                                              \n",
       "4    KA439841                                                              \n",
       "\n",
       "  KA53B6963 KA53AC0345 KA51B9664  ... KA07A2722 KA51B9235 KA53B1064 KA53D0153  \\\n",
       "0                                 ...                                           \n",
       "1                                 ...                                           \n",
       "2                                 ...                                           \n",
       "3                                 ...                                           \n",
       "4                                 ...                                           \n",
       "\n",
       "  KA53B1072 KA53B0960 KA53B0958 KA53B0952 KA53B1075 KA53B1061  \n",
       "0                                                              \n",
       "1                                                              \n",
       "2                                                              \n",
       "3                                                              \n",
       "4                                                              \n",
       "\n",
       "[5 rows x 54 columns]"
      ]
     },
     "execution_count": 37,
     "metadata": {},
     "output_type": "execute_result"
    }
   ],
   "source": [
    "cost_mat[cm['Bus']]=''\n"
   ]
  },
  {
   "cell_type": "code",
   "execution_count": null,
   "id": "287a4ab2-ae9c-4291-b89f-8cffa5a53fcc",
   "metadata": {},
   "outputs": [
    {
     "name": "stdout",
     "output_type": "stream",
     "text": [
      "        lon1       lat1       lon2       lat2\n",
      "3  77.553878  13.033098  77.536097  12.967800\n",
      "4  77.574234  13.099021  77.557486  13.034584\n"
     ]
    }
   ],
   "source": [
    "print(coordinates.iloc[3:5])"
   ]
  },
  {
   "cell_type": "code",
   "execution_count": null,
   "id": "30c0c437-7135-41e9-ba4e-482722f6a52b",
   "metadata": {},
   "outputs": [
    {
     "name": "stdout",
     "output_type": "stream",
     "text": [
      "        lon1       lat1       lon2       lat2\n",
      "5  77.657409  13.017359  77.630696  13.032014\n",
      "6  77.574234  13.099021  77.592635  13.058063\n",
      "7  77.484809  13.008149  77.550299  12.973794\n",
      "8  77.536863  13.309392  77.443245  13.201514\n",
      "9  77.692368  13.008776  77.692368  13.008776\n"
     ]
    }
   ],
   "source": [
    "lower_index=5\n",
    "upper_index=10\n",
    "batch=coordinates.iloc[lower_index:upper_index]\n",
    "print(batch)"
   ]
  },
  {
   "cell_type": "code",
   "execution_count": 2,
   "id": "7a0d85c0-0270-42e1-8a0f-1e88253f4fd0",
   "metadata": {},
   "outputs": [],
   "source": [
    "import openrouteservice\n",
    "\n",
    "# Initialize the client with your API key\n",
    "api_key = \"5b3ce3597851110001cf6248c01d29a9cb6644ada55104d3f6ad8d70\"\n",
    "orsmap = openrouteservice.Client(key=api_key)"
   ]
  },
  {
   "cell_type": "raw",
   "id": "157a0ea3-c21f-4512-baa5-94b0f2317b36",
   "metadata": {},
   "source": [
    "\n",
    "# Example: Get directions between two coordinates\n",
    "coords = [[coordinates['lon1'],coordinates['lat1']], [coordinates['lon1'], coordinates['lat2']]]  # [longitude, latitude]\n",
    "route = orsmap.directions(coordinates=coords, profile='driving-car')\n",
    "\n",
    "# Print the route summary\n",
    "print(route['routes'][0]['summary'])"
   ]
  },
  {
   "cell_type": "code",
   "execution_count": null,
   "id": "95972eb5-f027-4bad-9234-a93a5e15c4f3",
   "metadata": {},
   "outputs": [],
   "source": [
    "def get_road_distance(origin_lat, origin_lon, dest_lat, dest_lon):\n",
    "    origin = f\"{origin_lat},{origin_lon}\"\n",
    "    destination = f\"{dest_lat},{dest_lon}\"\n",
    "    try:\n",
    "        result = orsmap.directions(coordinates=[origin], profile='driving-car')\n",
    "        distance = result['routes'][0]['summary']\n",
    "        if distance['status'] == 'OK':\n",
    "            return distance['distance']/ 1000  # meters to km\n",
    "        else:\n",
    "            return np.inf\n",
    "    except:\n",
    "        return np.inf  # API or network failure fallback\n"
   ]
  },
  {
   "cell_type": "code",
   "execution_count": null,
   "id": "5009cb96-b1cc-4235-82d7-4a6c940721d6",
   "metadata": {},
   "outputs": [],
   "source": [
    "r=1\n",
    "c=40\n",
    "cost_matrix = np.zeros((r,c))\n",
    "\n",
    "print(\"Calculating distance matrix...\")\n",
    "for i in range(r):\n",
    "    for j in range(c):\n",
    "        dist = get_road_distance(\n",
    "            drivers.loc[i, 'Driver_Lat'], drivers.loc[i, 'Driver_Lon'], #needs to be changed to long,lat when using osrm\n",
    "            pickups.loc[j, 'PP_Lat'], pickups.loc[j, 'PP_Lon']\n",
    "        )\n",
    "        cost_matrix[i, j] = dist\n",
    "        sleep(0.1)  "
   ]
  },
  {
   "cell_type": "code",
   "execution_count": null,
   "id": "b211a4be-127a-46cf-aa70-7b721f8bd766",
   "metadata": {},
   "outputs": [
    {
     "name": "stdout",
     "output_type": "stream",
     "text": [
      "4664.8\n"
     ]
    }
   ],
   "source": [
    "print(route['routes'][0]['summary']['distance'])"
   ]
  },
  {
   "cell_type": "code",
   "execution_count": null,
   "id": "895e7543-3b9a-4702-973f-adac7d78e92d",
   "metadata": {},
   "outputs": [
    {
     "name": "stdout",
     "output_type": "stream",
     "text": [
      "Route Distance: 4.665 km\n"
     ]
    }
   ],
   "source": [
    "dis=round(route['routes'][0]['summary']['distance']/1000, 3)\n",
    "print(f'Route Distance: {dis} km')\n",
    "# c_m=dist\n",
    "# c_m.head()"
   ]
  },
  {
   "cell_type": "code",
   "execution_count": null,
   "id": "f6619343-7e26-4945-8ea3-d12984273b23",
   "metadata": {},
   "outputs": [],
   "source": [
    "# c_m.to_excel('sample distances matrix.xlsx', index=False)"
   ]
  },
  {
   "cell_type": "code",
   "execution_count": null,
   "id": "d74399a4-66a3-48dc-9c06-67a76c1eef8e",
   "metadata": {},
   "outputs": [],
   "source": [
    "API_KEY = '5b3ce3597851110001cf6248c01d29a9cb6644ada55104d3f6ad8d70'\n",
    "gmaps = googlemaps.Client(key=API_KEY)"
   ]
  },
  {
   "cell_type": "code",
   "execution_count": null,
   "id": "e1b7754a-4b0b-45c3-bdb8-b1ad7240bf3d",
   "metadata": {},
   "outputs": [],
   "source": [
    "result = gmaps.distance_matrix(\n",
    "    origins=['13.0173592,77.65740947'], \n",
    "    destinations=['13.01097849,77.69519276'], \n",
    "    mode='driving')"
   ]
  },
  {
   "cell_type": "code",
   "execution_count": null,
   "id": "67ec9d7e-045a-4584-b8b4-7c65757ea47a",
   "metadata": {},
   "outputs": [],
   "source": [
    "distance_m = result['rows'][0]['elements'][0]['distance']['value']  \n",
    "distance_km = distance_m / 1000"
   ]
  }
 ],
 "metadata": {
  "kernelspec": {
   "display_name": "Python 3 (ipykernel)",
   "language": "python",
   "name": "python3"
  },
  "language_info": {
   "codemirror_mode": {
    "name": "ipython",
    "version": 3
   },
   "file_extension": ".py",
   "mimetype": "text/x-python",
   "name": "python",
   "nbconvert_exporter": "python",
   "pygments_lexer": "ipython3",
   "version": "3.12.7"
  }
 },
 "nbformat": 4,
 "nbformat_minor": 5
}
